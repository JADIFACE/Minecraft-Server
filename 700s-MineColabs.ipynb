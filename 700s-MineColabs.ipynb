{
  "cells": [
    {
      "cell_type": "markdown",
      "metadata": {
        "id": "view-in-github",
        "colab_type": "text"
      },
      "source": [
        "<a href=\"https://colab.research.google.com/github/JADIFACE/Minecraft-Server/blob/main/700s-MineColabs.ipynb\" target=\"_parent\"><img src=\"https://colab.research.google.com/assets/colab-badge.svg\" alt=\"Open In Colab\"/></a>"
      ]
    },
    {
      "cell_type": "markdown",
      "metadata": {
        "id": "ZktjRJuZp1h6"
      },
      "source": [
        "\n",
        "```\n",
        "███╗   ███╗██╗███╗   ██╗███████╗ ██████╗ ██████╗ ██╗      █████╗ ██████╗\n",
        "████╗ ████║██║████╗  ██║██╔════╝██╔════╝██╔═══██╗██║     ██╔══██╗██╔══██╗\n",
        "██╔████╔██║██║██╔██╗ ██║█████╗  ██║     ██║   ██║██║     ███████║██████╔╝\n",
        "██║╚██╔╝██║██║██║╚██╗██║██╔══╝  ██║     ██║   ██║██║     ██╔══██║██╔══██╗\n",
        "██║ ╚═╝ ██║██║██║ ╚████║███████╗╚██████╗╚██████╔╝███████╗██║  ██║██████╔╝\n",
        "╚═╝     ╚═╝╚═╝╚═╝  ╚═══╝╚══════╝ ╚═════╝ ╚═════╝ ╚══════╝╚═╝  ╚═╝╚═════╝\n",
        "```\n",
        "**Ya es posible ejecutar un servidor de Minecraft en Google Colab**\n",
        "\n",
        "---\n",
        "\n",
        "En los siguientes pasos verás como puedes ejecutar tu servidor de Minecraft en este \"hosting\", Google Colab.\n",
        "\n",
        "***Importante:***\n",
        "\n",
        "- Hay que tener en cuenta que el rendimiento es experimental, es decir, no es el mejor, ni esta pensado para grandes proyectos.\n",
        "- Hay versiones (sobre todo las últimas) que no pueden estar disponibles debido a incompatibilidades.\n",
        "- Se tiene que seguir [el tutorial de YouTube](https://youtu.be/u6dB1UfHEDc?si=8BqYcxv4aEnXzzem)  correctamente.\n",
        "\n",
        "Si tienes cualquier duda me lo puedes dejar en mi canal o en [mi discord oficial](https://discord.gg/DjFBeBKvWz).\n",
        "\n",
        "\n",
        "---\n",
        "\n",
        "\n",
        "*Información adicional:* Creado por: [thecoder-001](https://github.com/thecoder-001/MineColab) y traducido por [Prozoon700](https://youtube.com/prozoon700)."
      ]
    },
    {
      "cell_type": "markdown",
      "metadata": {
        "id": "3Ll5oTMH2hy5"
      },
      "source": [
        "# Índice\n",
        "1. [¿Qué versión de OpenJDK necesito?]()\n",
        "2. [Iniciando el servidor]()\n",
        "3. [Mejorar conexiones de Ngrok]()\n",
        "4. [Creando los archivos necesarios]()\n",
        "5. [Aceptado el EULA]()\n",
        "6. [Debug]()\n",
        "7. [Comprobar el directorio]()"
      ]
    },
    {
      "cell_type": "markdown",
      "metadata": {
        "id": "q8Vw8O502ZC_"
      },
      "source": [
        "# ¿Qué versión de OpenJDK necesito?"
      ]
    },
    {
      "cell_type": "code",
      "execution_count": 1,
      "metadata": {
        "colab": {
          "base_uri": "https://localhost:8080/"
        },
        "id": "f-BYMbJw1dOQ",
        "outputId": "ac4147a9-b86c-4607-f3f8-6129abf0a2ce"
      },
      "outputs": [
        {
          "output_type": "stream",
          "name": "stdout",
          "text": [
            "Versión de OpenJDK: 17\n"
          ]
        }
      ],
      "source": [
        "# @title Introduce tu versión de Minecraft { run: \"auto\", vertical-output: true, display-mode: \"form\" }\n",
        "# @title  { run: \"auto\", vertical-output: true, display-mode: \"form\" }\n",
        "# @markdown Introduce la versión de Minecraft que vas a usar para obtener la versión que necesitas.\n",
        "mc_version = 1.21 # @param {type:\"number\"}\n",
        "# @markdown Debes poner la versión global, es decir si vas a jugar la 1.16.5, escribe solamente la 1.16.\n",
        "v_txt = \"\"\n",
        "\n",
        "def prompt_input():\n",
        "    global v_txt\n",
        "    # input(\"Presione enter al modificar el campo de versión (formulario de la derecha)\")\n",
        "    if 1.12 <= mc_version <= 1.16:\n",
        "        v_txt += \"8\"\n",
        "        alert(\"Versión de OpenJDK: \" + v_txt)\n",
        "    elif mc_version >= 1.17:\n",
        "        v_txt += \"17\"\n",
        "        alert(\"Versión de OpenJDK: \" + v_txt)\n",
        "    else:\n",
        "        alert(\"Versión no válida\")\n",
        "\n",
        "def alert(message):\n",
        "    print(message)\n",
        "\n",
        "prompt_input()\n"
      ]
    },
    {
      "cell_type": "markdown",
      "metadata": {
        "id": "YMBKljqK6Ahd"
      },
      "source": [
        "# Iniciando el servidor"
      ]
    },
    {
      "cell_type": "code",
      "execution_count": 2,
      "metadata": {
        "colab": {
          "base_uri": "https://localhost:8080/",
          "height": 1000
        },
        "id": "lqtMoYg0dUmu",
        "outputId": "0bf756bf-1407-48b3-e71f-cd4ef62fc256"
      },
      "outputs": [
        {
          "output_type": "stream",
          "name": "stdout",
          "text": [
            "\r0% [Working]\r            \rHit:1 http://archive.ubuntu.com/ubuntu jammy InRelease\n",
            "\r0% [Waiting for headers] [Waiting for headers] [Connected to cloud.r-project.or\r                                                                               \rGet:2 http://archive.ubuntu.com/ubuntu jammy-updates InRelease [128 kB]\n",
            "\r                                                                               \rGet:3 http://security.ubuntu.com/ubuntu jammy-security InRelease [129 kB]\n",
            "Get:4 https://cloud.r-project.org/bin/linux/ubuntu jammy-cran40/ InRelease [3,632 B]\n",
            "Get:5 https://developer.download.nvidia.com/compute/cuda/repos/ubuntu2204/x86_64  InRelease [1,581 B]\n",
            "Hit:6 http://archive.ubuntu.com/ubuntu jammy-backports InRelease\n",
            "Get:7 https://r2u.stat.illinois.edu/ubuntu jammy InRelease [6,555 B]\n",
            "Hit:8 https://ppa.launchpadcontent.net/deadsnakes/ppa/ubuntu jammy InRelease\n",
            "Get:9 http://security.ubuntu.com/ubuntu jammy-security/restricted amd64 Packages [4,111 kB]\n",
            "Hit:10 https://ppa.launchpadcontent.net/graphics-drivers/ppa/ubuntu jammy InRelease\n",
            "Get:11 http://archive.ubuntu.com/ubuntu jammy-updates/main amd64 Packages [3,154 kB]\n",
            "Hit:12 https://ppa.launchpadcontent.net/ubuntugis/ppa/ubuntu jammy InRelease\n",
            "Get:13 http://security.ubuntu.com/ubuntu jammy-security/universe amd64 Packages [1,244 kB]\n",
            "Get:14 http://security.ubuntu.com/ubuntu jammy-security/main amd64 Packages [2,841 kB]\n",
            "Get:15 http://archive.ubuntu.com/ubuntu jammy-updates/universe amd64 Packages [1,543 kB]\n",
            "Get:16 http://archive.ubuntu.com/ubuntu jammy-updates/restricted amd64 Packages [4,272 kB]\n",
            "Get:17 https://developer.download.nvidia.com/compute/cuda/repos/ubuntu2204/x86_64  Packages [1,604 kB]\n",
            "Get:18 https://r2u.stat.illinois.edu/ubuntu jammy/main all Packages [8,848 kB]\n",
            "Get:19 https://r2u.stat.illinois.edu/ubuntu jammy/main amd64 Packages [2,700 kB]\n",
            "Fetched 30.6 MB in 3s (10.4 MB/s)\n",
            "Reading package lists... Done\n",
            "W: Skipping acquire of configured file 'main/source/Sources' as repository 'https://r2u.stat.illinois.edu/ubuntu jammy InRelease' does not seem to provide it (sources.list entry misspelt?)\n",
            "Reading package lists... Done\n",
            "Building dependency tree... Done\n",
            "Reading state information... Done\n",
            "The following additional packages will be installed:\n",
            "  openjdk-17-jre-headless\n",
            "Suggested packages:\n",
            "  openjdk-17-demo openjdk-17-source libnss-mdns fonts-dejavu-extra\n",
            "  fonts-ipafont-gothic fonts-ipafont-mincho fonts-wqy-microhei\n",
            "  | fonts-wqy-zenhei fonts-indic\n",
            "The following NEW packages will be installed:\n",
            "  openjdk-17-jdk-headless openjdk-17-jre-headless\n",
            "0 upgraded, 2 newly installed, 0 to remove and 36 not upgraded.\n",
            "Need to get 120 MB of archives.\n",
            "After this operation, 271 MB of additional disk space will be used.\n",
            "Get:1 http://archive.ubuntu.com/ubuntu jammy-updates/universe amd64 openjdk-17-jre-headless amd64 17.0.14+7-1~22.04.1 [48.3 MB]\n",
            "Get:2 http://archive.ubuntu.com/ubuntu jammy-updates/universe amd64 openjdk-17-jdk-headless amd64 17.0.14+7-1~22.04.1 [71.3 MB]\n",
            "Fetched 120 MB in 2s (51.0 MB/s)\n",
            "debconf: unable to initialize frontend: Dialog\n",
            "debconf: (No usable dialog-like program is installed, so the dialog based frontend cannot be used. at /usr/share/perl5/Debconf/FrontEnd/Dialog.pm line 78, <> line 2.)\n",
            "debconf: falling back to frontend: Readline\n",
            "debconf: unable to initialize frontend: Readline\n",
            "debconf: (This frontend requires a controlling tty.)\n",
            "debconf: falling back to frontend: Teletype\n",
            "dpkg-preconfigure: unable to re-open stdin: \n",
            "Selecting previously unselected package openjdk-17-jre-headless:amd64.\n",
            "(Reading database ... 126333 files and directories currently installed.)\n",
            "Preparing to unpack .../openjdk-17-jre-headless_17.0.14+7-1~22.04.1_amd64.deb ...\n",
            "Unpacking openjdk-17-jre-headless:amd64 (17.0.14+7-1~22.04.1) ...\n",
            "Selecting previously unselected package openjdk-17-jdk-headless:amd64.\n",
            "Preparing to unpack .../openjdk-17-jdk-headless_17.0.14+7-1~22.04.1_amd64.deb ...\n",
            "Unpacking openjdk-17-jdk-headless:amd64 (17.0.14+7-1~22.04.1) ...\n",
            "Setting up openjdk-17-jre-headless:amd64 (17.0.14+7-1~22.04.1) ...\n",
            "update-alternatives: using /usr/lib/jvm/java-17-openjdk-amd64/bin/java to provide /usr/bin/java (java) in auto mode\n",
            "update-alternatives: using /usr/lib/jvm/java-17-openjdk-amd64/bin/jpackage to provide /usr/bin/jpackage (jpackage) in auto mode\n",
            "update-alternatives: using /usr/lib/jvm/java-17-openjdk-amd64/bin/keytool to provide /usr/bin/keytool (keytool) in auto mode\n",
            "update-alternatives: using /usr/lib/jvm/java-17-openjdk-amd64/bin/rmiregistry to provide /usr/bin/rmiregistry (rmiregistry) in auto mode\n",
            "update-alternatives: using /usr/lib/jvm/java-17-openjdk-amd64/lib/jexec to provide /usr/bin/jexec (jexec) in auto mode\n",
            "Setting up openjdk-17-jdk-headless:amd64 (17.0.14+7-1~22.04.1) ...\n",
            "update-alternatives: using /usr/lib/jvm/java-17-openjdk-amd64/bin/jar to provide /usr/bin/jar (jar) in auto mode\n",
            "update-alternatives: using /usr/lib/jvm/java-17-openjdk-amd64/bin/jarsigner to provide /usr/bin/jarsigner (jarsigner) in auto mode\n",
            "update-alternatives: using /usr/lib/jvm/java-17-openjdk-amd64/bin/javac to provide /usr/bin/javac (javac) in auto mode\n",
            "update-alternatives: using /usr/lib/jvm/java-17-openjdk-amd64/bin/javadoc to provide /usr/bin/javadoc (javadoc) in auto mode\n",
            "update-alternatives: using /usr/lib/jvm/java-17-openjdk-amd64/bin/javap to provide /usr/bin/javap (javap) in auto mode\n",
            "update-alternatives: using /usr/lib/jvm/java-17-openjdk-amd64/bin/jcmd to provide /usr/bin/jcmd (jcmd) in auto mode\n",
            "update-alternatives: using /usr/lib/jvm/java-17-openjdk-amd64/bin/jdb to provide /usr/bin/jdb (jdb) in auto mode\n",
            "update-alternatives: using /usr/lib/jvm/java-17-openjdk-amd64/bin/jdeprscan to provide /usr/bin/jdeprscan (jdeprscan) in auto mode\n",
            "update-alternatives: using /usr/lib/jvm/java-17-openjdk-amd64/bin/jdeps to provide /usr/bin/jdeps (jdeps) in auto mode\n",
            "update-alternatives: using /usr/lib/jvm/java-17-openjdk-amd64/bin/jfr to provide /usr/bin/jfr (jfr) in auto mode\n",
            "update-alternatives: using /usr/lib/jvm/java-17-openjdk-amd64/bin/jimage to provide /usr/bin/jimage (jimage) in auto mode\n",
            "update-alternatives: using /usr/lib/jvm/java-17-openjdk-amd64/bin/jinfo to provide /usr/bin/jinfo (jinfo) in auto mode\n",
            "update-alternatives: using /usr/lib/jvm/java-17-openjdk-amd64/bin/jlink to provide /usr/bin/jlink (jlink) in auto mode\n",
            "update-alternatives: using /usr/lib/jvm/java-17-openjdk-amd64/bin/jmap to provide /usr/bin/jmap (jmap) in auto mode\n",
            "update-alternatives: using /usr/lib/jvm/java-17-openjdk-amd64/bin/jmod to provide /usr/bin/jmod (jmod) in auto mode\n",
            "update-alternatives: using /usr/lib/jvm/java-17-openjdk-amd64/bin/jps to provide /usr/bin/jps (jps) in auto mode\n",
            "update-alternatives: using /usr/lib/jvm/java-17-openjdk-amd64/bin/jrunscript to provide /usr/bin/jrunscript (jrunscript) in auto mode\n",
            "update-alternatives: using /usr/lib/jvm/java-17-openjdk-amd64/bin/jshell to provide /usr/bin/jshell (jshell) in auto mode\n",
            "update-alternatives: using /usr/lib/jvm/java-17-openjdk-amd64/bin/jstack to provide /usr/bin/jstack (jstack) in auto mode\n",
            "update-alternatives: using /usr/lib/jvm/java-17-openjdk-amd64/bin/jstat to provide /usr/bin/jstat (jstat) in auto mode\n",
            "update-alternatives: using /usr/lib/jvm/java-17-openjdk-amd64/bin/jstatd to provide /usr/bin/jstatd (jstatd) in auto mode\n",
            "update-alternatives: using /usr/lib/jvm/java-17-openjdk-amd64/bin/serialver to provide /usr/bin/serialver (serialver) in auto mode\n",
            "update-alternatives: using /usr/lib/jvm/java-17-openjdk-amd64/bin/jhsdb to provide /usr/bin/jhsdb (jhsdb) in auto mode\n",
            "Mounted at /content/drive\n"
          ]
        },
        {
          "output_type": "error",
          "ename": "SecretNotFoundError",
          "evalue": "Secret ruta_servidor does not exist.",
          "traceback": [
            "\u001b[0;31m---------------------------------------------------------------------------\u001b[0m",
            "\u001b[0;31mSecretNotFoundError\u001b[0m                       Traceback (most recent call last)",
            "\u001b[0;32m<ipython-input-2-89911f52f557>\u001b[0m in \u001b[0;36m<cell line: 0>\u001b[0;34m()\u001b[0m\n\u001b[1;32m     52\u001b[0m \u001b[0;34m\u001b[0m\u001b[0m\n\u001b[1;32m     53\u001b[0m \u001b[0;31m# Cargando el directorio elegido para guardar los archivos\u001b[0m\u001b[0;34m\u001b[0m\u001b[0;34m\u001b[0m\u001b[0m\n\u001b[0;32m---> 54\u001b[0;31m \u001b[0mdrive_route\u001b[0m \u001b[0;34m=\u001b[0m \u001b[0muserdata\u001b[0m\u001b[0;34m.\u001b[0m\u001b[0mget\u001b[0m\u001b[0;34m(\u001b[0m\u001b[0;34m'ruta_servidor'\u001b[0m\u001b[0;34m)\u001b[0m\u001b[0;34m\u001b[0m\u001b[0;34m\u001b[0m\u001b[0m\n\u001b[0m\u001b[1;32m     55\u001b[0m \u001b[0mget_ipython\u001b[0m\u001b[0;34m(\u001b[0m\u001b[0;34m)\u001b[0m\u001b[0;34m.\u001b[0m\u001b[0mrun_line_magic\u001b[0m\u001b[0;34m(\u001b[0m\u001b[0;34m'cd'\u001b[0m\u001b[0;34m,\u001b[0m \u001b[0;34m'$drive_route'\u001b[0m\u001b[0;34m)\u001b[0m\u001b[0;34m\u001b[0m\u001b[0;34m\u001b[0m\u001b[0m\n\u001b[1;32m     56\u001b[0m \u001b[0;34m\u001b[0m\u001b[0m\n",
            "\u001b[0;32m/usr/local/lib/python3.11/dist-packages/google/colab/userdata.py\u001b[0m in \u001b[0;36mget\u001b[0;34m(key)\u001b[0m\n\u001b[1;32m     66\u001b[0m     \u001b[0;32mraise\u001b[0m \u001b[0mTimeoutException\u001b[0m\u001b[0;34m(\u001b[0m\u001b[0mkey\u001b[0m\u001b[0;34m)\u001b[0m\u001b[0;34m\u001b[0m\u001b[0;34m\u001b[0m\u001b[0m\n\u001b[1;32m     67\u001b[0m   \u001b[0;32mif\u001b[0m \u001b[0;32mnot\u001b[0m \u001b[0mresp\u001b[0m\u001b[0;34m.\u001b[0m\u001b[0mget\u001b[0m\u001b[0;34m(\u001b[0m\u001b[0;34m'exists'\u001b[0m\u001b[0;34m,\u001b[0m \u001b[0;32mFalse\u001b[0m\u001b[0;34m)\u001b[0m\u001b[0;34m:\u001b[0m\u001b[0;34m\u001b[0m\u001b[0;34m\u001b[0m\u001b[0m\n\u001b[0;32m---> 68\u001b[0;31m     \u001b[0;32mraise\u001b[0m \u001b[0mSecretNotFoundError\u001b[0m\u001b[0;34m(\u001b[0m\u001b[0mkey\u001b[0m\u001b[0;34m)\u001b[0m\u001b[0;34m\u001b[0m\u001b[0;34m\u001b[0m\u001b[0m\n\u001b[0m\u001b[1;32m     69\u001b[0m   \u001b[0;32mif\u001b[0m \u001b[0;32mnot\u001b[0m \u001b[0mresp\u001b[0m\u001b[0;34m.\u001b[0m\u001b[0mget\u001b[0m\u001b[0;34m(\u001b[0m\u001b[0;34m'access'\u001b[0m\u001b[0;34m,\u001b[0m \u001b[0;32mFalse\u001b[0m\u001b[0;34m)\u001b[0m\u001b[0;34m:\u001b[0m\u001b[0;34m\u001b[0m\u001b[0;34m\u001b[0m\u001b[0m\n\u001b[1;32m     70\u001b[0m     \u001b[0;32mraise\u001b[0m \u001b[0mNotebookAccessError\u001b[0m\u001b[0;34m(\u001b[0m\u001b[0mkey\u001b[0m\u001b[0;34m)\u001b[0m\u001b[0;34m\u001b[0m\u001b[0;34m\u001b[0m\u001b[0m\n",
            "\u001b[0;31mSecretNotFoundError\u001b[0m: Secret ruta_servidor does not exist."
          ]
        }
      ],
      "source": [
        "# @title  { vertical-output: true, display-mode: \"form\" }\n",
        "# @markdown Introduce la versión de OpenJDK que has podido obtener anteiormente. [¿No sabes cuál necesitas?](https://colab.research.google.com/drive/1LJuHSqWDKKi8nEViE2lGd-_bEGDL1GTC#scrollTo=f-BYMbJw1dOQ&line=1&uniqifier=1)\n",
        "ojdk_version = 17 # @param {type:\"number\"}\n",
        "\n",
        "# # @markdown Si vas a usar forge deberás activar esta configuración\n",
        "# forge_mode = False # @param {type:\"boolean\"}\n",
        "\n",
        "# @markdown Introduce aquí el nombre del agente de tunneling que vas a usar. Actualmente disponibles: [Ngrok](https://ngrok.com), [Playit](https://playit.gg), [CloudFlared](https://github.com/cloudflare/cloudflared), localhost (pruebas),\n",
        "agent_service = \"playit\" # @param {type:\"string\"}\n",
        "agent_service = agent_service.lower()\n",
        "\n",
        "# @markdown - Info: Si usas Ngrok te recomiendo revisar el siguiente apartado y ver si tu región está disponible para obtener la mejor conexión.\n",
        "region = '' # @param {type:\"string\"}\n",
        "\n",
        "# @markdown - Info: Si usas PlayIt, en algunos casos puede darse el problema de spam en consola de cierto mensaje.\n",
        "# @markdown\n",
        "# @markdown Escribe debajo el mensaje para eliminarlo automaticamente.\n",
        "playitMessage1 = \"TUNNELS\" # @param {type:\"string\"}\n",
        "playitMessage2 = \"fat-derived.gl.joinmc.link => 127.0.0.1:25565 (minecraft-java) \" # @param {type:\"string\"}\n",
        "playitMessage3 = \"\\x1B8playit (v0.15.13): 1717434967593 tunnel running, 1 tunnels registered\" # @param {type:\"string\"}\n",
        "\n",
        "# Colores para prints\n",
        "class bcolors:\n",
        "    header = '\\033[95m'\n",
        "    okblue = '\\033[94m'\n",
        "    okcyan = '\\033[96m'\n",
        "    okgreen = '\\033[92m'\n",
        "    warning = '\\033[93m'\n",
        "    fail = '\\033[91m'\n",
        "    endc = '\\033[0m'\n",
        "    bold = '\\033[1m'\n",
        "    underline = '\\033[4m'\n",
        "\n",
        "import os\n",
        "import re\n",
        "import json\n",
        "from google.colab import userdata\n",
        "from IPython.display import clear_output\n",
        "\n",
        "# Ejecuta una actualización de APT (Entornos necesarios de Ubuntu y Linux)\n",
        "!sudo apt-get update -y && sudo apt-get install -y openjdk-{ojdk_version}-jdk-headless\n",
        "\n",
        "# Configurar la variable de entorno JAVA_HOME\n",
        "os.environ[\"JAVA_HOME\"] = \"/usr/lib/jvm/java-17-openjdk-amd64\"\n",
        "\n",
        "# Actualizar las alternativas de Java para utilizar la versión instalada\n",
        "!sudo update-alternatives --set java /usr/lib/jvm/java-{ojdk_version}-openjdk-amd64/bin/java\n",
        "\n",
        "# Iniciando y cargando los archivos de Google Drive\n",
        "from google.colab import drive\n",
        "drive.mount('/content/drive')\n",
        "\n",
        "# Cargando el directorio elegido para guardar los archivos\n",
        "drive_route = userdata.get('ruta_servidor')\n",
        "%cd $drive_route\n",
        "\n",
        "# Importando los archivos de configuración\n",
        "if os.path.isfile(\"colabconfig.json\"):\n",
        "  with open(\"colabconfig.json\", \"r\") as f:\n",
        "      colabconfig = json.load(f)\n",
        "\n",
        "  server_type = colabconfig[\"server_type\"]\n",
        "  version = colabconfig[\"minecraft_version\"]\n",
        "  forge_version = colabconfig[\"forge_version\"]\n",
        "else:\n",
        "  print(bcolors.error + '¡No se ha encontrado un archivo de configuración! Comprueba que la instalación fue correcta')\n",
        "\n",
        "# Nombres del archivo del servidor\n",
        "jar_list = {'paper': 'server.jar', 'fabric': 'fabric-server-launch.jar', 'generic': 'server.jar', 'forge': 'server.jar'}\n",
        "jar_name = jar_list[colabconfig[\"server_type\"]]\n",
        "\n",
        "# Argumentos de java\n",
        "server_flags = \"-XX:+UseG1GC -XX:+ParallelRefProcEnabled -XX:MaxGCPauseMillis=200 -XX:+UnlockExperimentalVMOptions -XX:+DisableExplicitGC -XX:+AlwaysPreTouch -XX:G1NewSizePercent=30 -XX:G1MaxNewSizePercent=40 -XX:G1HeapRegionSize=8M -XX:G1ReservePercent=20 -XX:G1HeapWastePercent=5 -XX:G1MixedGCCountTarget=4 -XX:InitiatingHeapOccupancyPercent=15 -XX:G1MixedGCLiveThresholdPercent=90 -XX:SurvivorRatio=32 -XX:+PerfDisableSharedMem -XX:MaxTenuringThreshold=1 -Dusing.aikars.flags=https://mcflags.emc.gs -Daikars.new.flags=true\" # Las configuracioens de Aiker podrían empeorar el rendimiento.\n",
        "memory_allocation = \"-Xms10G -Xmx10G\"\n",
        "\n",
        "print()\n",
        "print(bcolors.okcyan + \"Usando: \", agent_service, \" como agente de tunelling\")\n",
        "print(bcolors.endc)\n",
        "\n",
        "if(agent_service == 'ngrok'):\n",
        "  !pip -q install pyngrok\n",
        "  from pyngrok import conf, ngrok\n",
        "\n",
        "  # Te pide el token de autentificación de Ngrok\n",
        "  print(bcolors.header + \"Si no tienes aún un token lo puedes obtener en: https://dashboard.ngrok.com/auth\")\n",
        "  print(bcolors.endc)\n",
        "  import getpass\n",
        "  authtoken = getpass.getpass()  # introduce el token de Ngrok para poder utilizarlo\n",
        "  ! ngrok authtoken $authtoken # Carga el token de ngrok\n",
        "\n",
        "  # Implementación: os.environ['NOMBRE-VARIABLE] - osl.environ.get('VARIABLE')\n",
        "\n",
        "  # Especifica la región donde será usado ngrok\n",
        "  conf.get_default().region = region # Modifícala para obtener un mejor rendimiento\n",
        "\n",
        "  # Se conecta a Ngrok\n",
        "  url = ngrok.connect(25565, 'tcp')\n",
        "  url = ((str(url).split('\"')[1::2])[0]).replace('tcp://', '')\n",
        "  print(bcolors.okcyan + 'La IP de tu servidor es: ' + bcolors.underline + bcolors.bold + bcolors.okcyan + url)\n",
        "  print(bcolors.warning + '¡Recuerda que cambiara en cada inicio!')\n",
        "\n",
        "  print(bcolors.okcyan + 'Iniciando el servidor...')\n",
        "  print(bcolors.endc)\n",
        "\n",
        "  if(server_type == 'forge'):\n",
        "    !java $memory_allocation $server_flags @libraries/net/minecraftforge/forge/{version}-{forge_version}/unix_args.txt nogui \"$@\"\n",
        "  else:\n",
        "    !java $memory_allocation $server_flags nogui \"$@\"\n",
        "\n",
        "elif agent_service == \"playit\":\n",
        "  ! curl -SsL https://playit-cloud.github.io/ppa/key.gpg | sudo apt-key add -\n",
        "  ! sudo curl -SsL -o /etc/apt/sources.list.d/playit-cloud.list https://playit-cloud.github.io/ppa/playit-cloud.list\n",
        "  ! sudo apt update &>/dev/null && sudo apt install playit &>/dev/null && echo \"Playit.gg instalado con éxito\" || echo \"Algo ha fallado instalando PlayIt\"\n",
        "\n",
        "  print(bcolors.okcyan + 'Iniciando el servidor...')\n",
        "  print(bcolors.endc)\n",
        "\n",
        "  if(server_type == 'forge'):\n",
        "    !playit | grep -v playitMessage1 | grep -v playitMessage2 | grep -v playitMessage3 & java $memory_allocation $server_flags @libraries/net/minecraftforge/forge/{version}-{forge_version}/unix_args.txt nogui \"$@\"\n",
        "  else:\n",
        "    !playit | grep -v playitMessage1 | grep -v playitMessage2 | grep -v playitMessage3 & java $memory_allocation $server_flags nogui \"$@\"\n",
        "\n",
        "elif agent_service == 'cloudflared':\n",
        "  # Descarga y ejecuta argo\n",
        "  !cloudflared service uninstall\n",
        "  !curl -L --output cloudflared.deb https://github.com/cloudflare/cloudflared/releases/latest/download/cloudflared-linux-amd64.deb && sudo dpkg -i cloudflared.deb && sudo cloudflared service install aquí-va-tu-token\n",
        "  !chmod +x cloudflared-linux-amd64\n",
        "  !mkdir -p /content/.cloudflared\n",
        "  !mv /path/to/your/cert.pem /content/.cloudflared/cert.pem\n",
        "\n",
        "  # Reemplaza los valores con los tuyos\n",
        "  config = \"\"\"\n",
        "  tunnel: tunel-name\n",
        "  credentials-file: /content/cert/cert.pem\n",
        "  logfile: /dev/stdout\n",
        "  ingress:\n",
        "    - hostname: tu-dominio.cloudflared.com\n",
        "      service: tcp://localhost:25565\n",
        "  \"\"\"\n",
        "\n",
        "  print(bcolors.okcyan + 'Iniciando el servidor...')\n",
        "  print(bcolors.endc)\n",
        "\n",
        "  # Escribir la configuración en un archivo\n",
        "  with open(\"/content/config.yml\", \"w\") as f:\n",
        "      f.write(config)\n",
        "\n",
        "  #!./cloudflared-linux-amd64 tunnel run prozoon-mcserver > /dev/null 2>&1 #& java $memory_allocation $server_flags -jar $jar_name nogui\n",
        "  if(server_type == 'forge'):\n",
        "    !cloudflared tunnel --no-autoupdate run --token mi_token & java $memory_allocation $server_flags @libraries/net/minecraftforge/forge/{version}-{forge_version}/unix_args.txt nogui \"$@\"\n",
        "  else:\n",
        "    !cloudflared tunnel --no-autoupdate run --token mi_token & java $memory_allocation $server_flags nogui \"$@\"\n",
        "\n",
        "elif agent_service == 'localhost':\n",
        "  if(server_type == 'forge'):\n",
        "    !playit & java $memory_allocation $server_flags @libraries/net/minecraftforge/forge/{version}-{forge_version}/unix_args.txt nogui \"$@\"\n",
        "  else:\n",
        "    !playit & java $memory_allocation $server_flags nogui \"$@\"\n",
        "\n",
        "else:\n",
        "  clear_output(wait=True)\n",
        "  print(bcolors.warning + 'El servicio especificado no ha sido encontrado. Comprueba que este escrito en minúsculas.')\n",
        "  print(bcolors.endc)\n"
      ]
    },
    {
      "cell_type": "markdown",
      "metadata": {
        "id": "ZviuFoB6LmIP"
      },
      "source": [
        "# Mejorando conexiones de Ngrok\n",
        "Si vas a usar Ngrok y quieres el mejor rendimiento te recomiendo configurar correctamente la región de Ngrok.\n",
        "Configurando esto harás que ngrok se conecte (a poder ser) a un servidor en la región especificada, mejorando por tanto la conexión.\n",
        "\n",
        "Las regiones disponibles en ngrok son las siguientes:\n",
        "\n",
        "![Ngrok regions.png](data:image/png;base64,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)"
      ]
    },
    {
      "cell_type": "markdown",
      "metadata": {
        "id": "_4IowSDVUZp8"
      },
      "source": [
        "# Creando los archivos del servidor\n",
        "\n",
        "En el siguiente código crearemos los archivos necesario para que el servidor funcione correctamente.\n",
        "\n",
        "Es necesario aceptar el EULA de Minecraft para proseguir."
      ]
    },
    {
      "cell_type": "markdown",
      "metadata": {
        "id": "7wrNfinQOlWV"
      },
      "source": [
        "**Descargando el servidor de Minecraft**\n",
        "\n",
        "En el código de debajo puedes elegir la versión de Minecraft que quieres usar, que software usar (Paper, Forge o Vanilla) y que versiones alternativas."
      ]
    },
    {
      "cell_type": "code",
      "execution_count": null,
      "metadata": {
        "colab": {
          "base_uri": "https://localhost:8080/"
        },
        "id": "Fy5-YjJMPV3S",
        "outputId": "e7c40fae-7a03-4be7-9068-60dd24a092e4"
      },
      "outputs": [
        {
          "output_type": "stream",
          "name": "stdout",
          "text": [
            "\u001b[92mTerminado con exito!\n",
            "Puede que tardes unos segundos en ver los cambios\n",
            "\n",
            "\u001b[93mAhora deberás añadir un secreto (icono de la llave, lateral izquierdo) con los datos inferiores.\n",
            "\n",
            "\u001b[0mTus datos son --> Nombre: \u001b[95mruta_servidor\u001b[0m - Ruta (valor): \u001b[95m/content/drive/My Drive/Mi_MineColab5/\u001b[0m <--\n",
            "\u001b[0m\n",
            "---\n",
            "\u001b[93m¡Si es la primera vez que ejecutas el código, vuelve a ejecutarlo otra vez!\n"
          ]
        }
      ],
      "source": [
        "# @title  { vertical-output: true, display-mode: \"form\" }\n",
        "# @markdown Introduce aquí el software que vas a usar ([Forge](https://files.minecraftforge.net/net/minecraftforge/forge/), [Paper](https://papermc.io), etc...)\n",
        "server_type = 'forge' # @param {type:\"string\"}\n",
        "server_type = server_type.lower()\n",
        "\n",
        "# @markdown Introduce aquí la versión de minecraft que vas a usar\n",
        "version = \"1.20.2\" # @param {type:\"string\"}\n",
        "\n",
        "# @markdown Introduce aquí la versión de forge (en caso de que uses forge)\n",
        "forge_version = \"48.0.44\" # @param {type:\"string\"}\n",
        "\n",
        "# @markdown Introduce aquí el nombre de tu carpeta donde está ubicado el servidor\n",
        "dir_name = 'Mi_MineColab5' # @param {type:\"string\"}\n",
        "\n",
        "# Colores para prints\n",
        "class colors:\n",
        "    header = '\\033[95m'\n",
        "    okblue = '\\033[94m'\n",
        "    okcyan = '\\033[96m'\n",
        "    okgreen = '\\033[92m'\n",
        "    warning = '\\033[93m'\n",
        "    fail = '\\033[91m'\n",
        "    endc = '\\033[0m'\n",
        "    bold = '\\033[1m'\n",
        "    underline = '\\033[4m'\n",
        "\n",
        "# NO TOQUES NADA DESPUÉS DE ESTE COMENTARIO SI NO SABES LO QUE ESTÁS HACIENDO.\n",
        "from google.colab import drive\n",
        "from google.colab import userdata\n",
        "from IPython.display import clear_output\n",
        "import requests\n",
        "import json\n",
        "import os\n",
        "import time\n",
        "\n",
        "\n",
        "drive.mount('/content/drive')\n",
        "\n",
        "drive_route = '/content/drive/My Drive/' + dir_name + '/'\n",
        "\n",
        "if not os.path.exists(drive_route):\n",
        "    os.makedirs(drive_route)\n",
        "    print(f\"Carpeta '{dir_name}' creada en Google Drive.\")\n",
        "else:\n",
        "    print(f\"La carpeta '{dir_name}' ya existe en Google Drive. Accediendo a ella...\")\n",
        "    %cd $drive_route\n",
        "\n",
        "print(colors.okcyan + 'Se va a descargar e instalar el servidor.')\n",
        "print(colors.warning + 'Esto puede tardar hasta 10 minutos, así que ten paciencia')\n",
        "print(colors.endc)\n",
        "\n",
        "time.sleep(10)\n",
        "\n",
        "if server_type == \"paper\":\n",
        "  a = requests.get(\"https://papermc.io/api/v2/projects/paper/versions/\" + version)\n",
        "  b = requests.get(\"https://papermc.io/api/v2/projects/paper/versions/\" + version + \"/builds/\" + str(a.json()[\"builds\"][-1]))\n",
        "  print(\"https://papermc.io/api/v2/projects/paper/versions/\" + version + \"/builds/\" + str(a.json()[\"builds\"][-1]) + \"/downloads/\" + b.json()[\"downloads\"][\"application\"][\"name\"])\n",
        "  url = \"https://papermc.io/api/v2/projects/paper/versions/\" + version + \"/builds/\" + str(a.json()[\"builds\"][-1]) + \"/downloads/\" + b.json()[\"downloads\"][\"application\"][\"name\"]\n",
        "\n",
        "  jar_name = \"server.jar\"\n",
        "  time.sleep(5)\n",
        "  print(colors.fail + 'SOLO SI ES LA PRIMERA VEZ QUE EJECUTAS EL CÓDIGO: Reinicia el entorno (doble click al icono de parar la celda) o espera a que se finalize automaticamente')\n",
        "  !java -Xmx10G -Xms10G -jar server.jar --installServer\n",
        "\n",
        "if server_type == \"fabric\":\n",
        "  url = \"https://maven.fabricmc.net/net/fabricmc/fabric-installer/0.7.4/fabric-installer-0.7.4.jar\"\n",
        "  jar_name = \"fabric-installer.jar\"\n",
        "  print(colors.fail + 'SOLO SI ES LA PRIMERA VEZ QUE EJECUTAS EL CÓDIGO: Reinicia el entorno (doble click al icono de parar la celda) o espera a que se finalize automaticamente')\n",
        "  time.sleep(5)\n",
        "  !java -Xmx10G -Xms10G -jar fabric-installer.jar server -mcversion $version -downloadMinecraft\n",
        "\n",
        "if server_type == \"forge\":\n",
        "  url = f\"https://maven.minecraftforge.net/net/minecraftforge/forge/{version}-{forge_version}/forge-{version}-{forge_version}-installer.jar\"\n",
        "  jar_name = \"server.jar\"\n",
        "  print(colors.fail + 'SOLO SI ES LA PRIMERA VEZ QUE EJECUTAS EL CÓDIGO: Reinicia el entorno (doble click al icono de parar la celda) o espera a que se finalize automaticamente')\n",
        "  time.sleep(5)\n",
        "  !java -Xmx10G -Xms10G -jar server.jar --installServer\n",
        "\n",
        "r = requests.get(url)\n",
        "\n",
        "if r.status_code == 200:\n",
        "  with open(drive_route + jar_name, 'wb') as f:\n",
        "    f.write(r.content)\n",
        "else:\n",
        "  print(colors.fail + 'Error '+ str(r.status_code) + '! La versión introducida no es correcta o no se puede acceder a ella. Por favor vuelve a intentarlo o prueba con otra versión.')\n",
        "  print('Si el problema persiste contacta conmigo a través del discord oficial o del canal de YouTube.')\n",
        "\n",
        "# Saving colab data\n",
        "colabconfig = {\n",
        "    \"server_type\": server_type,\n",
        "    \"minecraft_version\": version,\n",
        "    \"forge_version\": forge_version\n",
        "    }\n",
        "json.dump(colabconfig, open(\"colabconfig.json\",'w'))\n",
        "\n",
        "clear_output(wait=True)\n",
        "\n",
        "print(colors.okgreen + 'Terminado con exito!')\n",
        "print('Puede que tardes unos segundos en ver los cambios')\n",
        "print()\n",
        "print(colors.warning + 'Ahora deberás añadir un secreto (icono de la llave, lateral izquierdo) con los datos inferiores.')\n",
        "print()\n",
        "print(colors.endc + 'Tus datos son --> Nombre: ' + colors.header + 'ruta_servidor' + colors.endc + ' - Ruta (valor): ' + colors.header + drive_route + colors.endc + ' <--')\n",
        "print(colors.endc)\n",
        "print('---')\n",
        "print(colors.warning + '¡Si es la primera vez que ejecutas el código, vuelve a ejecutarlo otra vez!')\n"
      ]
    },
    {
      "cell_type": "markdown",
      "metadata": {
        "id": "vhHYrg6FlbcQ"
      },
      "source": [
        "**Aceptar el EULA de forma automática**"
      ]
    },
    {
      "cell_type": "code",
      "execution_count": null,
      "metadata": {
        "colab": {
          "base_uri": "https://localhost:8080/"
        },
        "id": "aefCB6cFlle8",
        "outputId": "9073fa3a-bd39-48a8-f446-63b5396ab3bb"
      },
      "outputs": [
        {
          "name": "stdout",
          "output_type": "stream",
          "text": [
            "Drive already mounted at /content/drive; to attempt to forcibly remount, call drive.mount(\"/content/drive\", force_remount=True).\n",
            "/content/drive/My Drive/Mi_MineColab4\n",
            "\n",
            "\n",
            "¡Se ha aceptado el EULA correctamente!\n"
          ]
        }
      ],
      "source": [
        "# @title  { run: \"auto\", vertical-output: true, display-mode: \"form\" }\n",
        "# @markdown ¿Aceptas el EULA de Minecraft? Es necesario para poder ejecutar el servidor.\n",
        "eula_accept = True # @param {type:\"boolean\"}\n",
        "\n",
        "if(eula_accept == True):\n",
        "  from google.colab import drive\n",
        "  from google.colab import userdata\n",
        "  import os\n",
        "  drive.mount('/content/drive')\n",
        "  drive_route = userdata.get('ruta_servidor')\n",
        "\n",
        "  %cd $drive_route\n",
        "  !echo \"eula=true\" >> eula.txt\n",
        "\n",
        "  print('')\n",
        "  print('')\n",
        "  print('¡Se ha aceptado el EULA correctamente!')\n",
        "else:\n",
        "  print('Debes aceptar el EULA para continuar')"
      ]
    },
    {
      "cell_type": "markdown",
      "metadata": {
        "id": "FO5S4OHVdV5O"
      },
      "source": [
        "# Debug\n",
        "Acceso mediante SSh por [colab-ssh](https://github.com/WassimBenzarti/colab-ssh).\n",
        "\n",
        "<p style=\"color:red;\">ATENCIÓN: PODRÍAS SER BANNEADO</p>"
      ]
    },
    {
      "cell_type": "code",
      "execution_count": null,
      "metadata": {
        "id": "cM7gKp6Yi8Q2"
      },
      "outputs": [],
      "source": [
        "# @title Tunel SSH en Colab { vertical-output: true, display-mode: \"form\" }\n",
        "# @markdown Ejecuta este código para obtener acceso a la consola mediante SSH. Revisa: [Documentación SSH](https://github.com/WassimBenzarti/colab-ssh) para más detalles.\n",
        "\n",
        "# Instala el ejecutable de colab ssh\n",
        "!pip install colab_ssh --upgrade\n",
        "\n",
        "from colab_ssh import launch_ssh_cloudflared, init_git_cloudflared\n",
        "ssh_tunnel_password = \"<INTRODUCE AQUÍ TU CONTRASEÑA SSH>\" #@param {type: \"string\"}\n",
        "launch_ssh_cloudflared(password=ssh_tunnel_password)"
      ]
    },
    {
      "cell_type": "code",
      "execution_count": null,
      "metadata": {
        "id": "7kR6rsn7jyxt"
      },
      "outputs": [],
      "source": [
        "# Obtén acceso público a través de ngork\n",
        "! curl -s http://localhost:4040/api/tunnels | python3 -c \\\n",
        "    \"import sys, json; print(json.load(sys.stdin)['tunnels'][0]['public_url'])\""
      ]
    },
    {
      "cell_type": "markdown",
      "metadata": {
        "id": "F9_3mrNB53mu"
      },
      "source": [
        "# Visualizar los archivos dentro de la carpeta"
      ]
    },
    {
      "cell_type": "code",
      "execution_count": null,
      "metadata": {
        "colab": {
          "base_uri": "https://localhost:8080/"
        },
        "id": "Z2rztsCQk0kh",
        "outputId": "50463263-7198-42f3-d252-5f3499b8ff14"
      },
      "outputs": [
        {
          "name": "stdout",
          "output_type": "stream",
          "text": [
            "Debes activar el visualizador desde el campo de la derecha (formulario) para poder ver los archivos en forma de texto plano.\n"
          ]
        }
      ],
      "source": [
        "# @title { run: \"auto\", vertical-output: true, display-mode: \"form\" }\n",
        "# @markdown Activa el visualizador para poder ver los archivos del servidor en texto plano.\n",
        "# @markdown\n",
        "# @markdown Esto sirve para comprobar que la dirección es correcta y que los archivos se han instalado correctamente.\n",
        "visualizer = False # @param {type:\"boolean\"}\n",
        "\n",
        "if(visualizer == True):\n",
        "  from google.colab import userdata\n",
        "  from google.colab import drive\n",
        "\n",
        "  drive.mount('/content/drive')\n",
        "  drive_route = userdata.get('ruta_servidor')\n",
        "\n",
        "  %cd $drive_route\n",
        "  !ls\n",
        "else:\n",
        "  print('Debes activar el visualizador desde el campo superior (formulario) para poder ver los archivos en forma de texto plano.')\n"
      ]
    }
  ],
  "metadata": {
    "colab": {
      "provenance": [],
      "include_colab_link": true
    },
    "kernelspec": {
      "display_name": "Python 3 (ipykernel)",
      "language": "python",
      "name": "python3"
    },
    "language_info": {
      "codemirror_mode": {
        "name": "ipython",
        "version": 3
      },
      "file_extension": ".py",
      "mimetype": "text/x-python",
      "name": "python",
      "nbconvert_exporter": "python",
      "pygments_lexer": "ipython3",
      "version": "3.10.4"
    }
  },
  "nbformat": 4,
  "nbformat_minor": 0
}